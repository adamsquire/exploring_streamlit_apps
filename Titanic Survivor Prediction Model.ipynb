{
 "cells": [
  {
   "cell_type": "markdown",
   "id": "norman-choice",
   "metadata": {},
   "source": [
    "# Titanic Survival Prediction\n",
    "\n",
    "Data files are from [https://www.kaggle.com/c/titanic/](https://www.kaggle.com/c/titanic/)\n",
    "\n",
    "Returns a score on Kaggle of 0.7461 which is around 206th position on leader board\n",
    "\n",
    "Used as the basis of testing a Streamlit application (code in the same repository as this notebook)"
   ]
  },
  {
   "cell_type": "code",
   "execution_count": 1,
   "id": "tribal-advertising",
   "metadata": {},
   "outputs": [],
   "source": [
    "import pandas as pd\n",
    "import numpy as np\n",
    "import matplotlib as plt"
   ]
  },
  {
   "cell_type": "code",
   "execution_count": 2,
   "id": "forced-reporter",
   "metadata": {},
   "outputs": [],
   "source": [
    "base_data = pd.read_csv(\"../data/train.csv\");\n",
    "base_data.columns\n",
    "\n",
    "# create a copy of base_data with just the columns we need (i.e. drop PassengerID,Ticket,Name,Cabin)\n",
    "cols = [\"Survived\",\"Pclass\",\"Sex\",\"Age\",\"SibSp\",\"Parch\",\"Fare\",\"Embarked\",]\n",
    "data = base_data[cols].copy()"
   ]
  },
  {
   "cell_type": "code",
   "execution_count": 3,
   "id": "informed-asian",
   "metadata": {},
   "outputs": [],
   "source": [
    "# Transformations and additions\n",
    "data[\"Age\"].fillna((data[\"Age\"].mean()), inplace=True) # Fill missing age values with the mean\n",
    "data[\"Embarked\"].fillna(\"C\", inplace=True) # fill missing Embarked values with C"
   ]
  },
  {
   "cell_type": "code",
   "execution_count": 4,
   "id": "minus-alias",
   "metadata": {},
   "outputs": [],
   "source": [
    "# Transform labels to target values between 0 and n\n",
    "from sklearn.preprocessing import LabelEncoder\n",
    "\n",
    "encoder = LabelEncoder()\n",
    "data.loc[:,\"Sex\"] = encoder.fit_transform(data.loc[:,\"Sex\"])\n",
    "# male = 1, female = 0\n",
    "\n",
    "encoder = LabelEncoder()\n",
    "data.loc[:,\"Embarked\"] = encoder.fit_transform(data.loc[:,\"Embarked\"])\n",
    "# C = 0, Q = 1, S =2"
   ]
  },
  {
   "cell_type": "code",
   "execution_count": 5,
   "id": "banned-rabbit",
   "metadata": {},
   "outputs": [],
   "source": [
    "# Generate a test train split from our input data\n",
    "x = data.iloc[:,1:8] # all features except cabin and title\n",
    "y = data.iloc[:,0] # survived\n",
    "\n",
    "from sklearn.model_selection import train_test_split\n",
    "X_train, X_test, y_train, y_test = train_test_split(x, y, test_size = 0.2, random_state = 0)\n"
   ]
  },
  {
   "cell_type": "code",
   "execution_count": 6,
   "id": "bibliographic-greene",
   "metadata": {},
   "outputs": [
    {
     "name": "stdout",
     "output_type": "stream",
     "text": [
      "Forest score 0.9676966292134831\n",
      "Logistic Regression score 0.797752808988764\n",
      "Decisions Tree score 0.9817415730337079\n"
     ]
    }
   ],
   "source": [
    "# train models\n",
    "# --> Ranform Forest\n",
    "# --> Logistic Regression\n",
    "# --> Decision Tree\n",
    "\n",
    "def model(X_train, y_train):\n",
    "    \n",
    "    from sklearn.ensemble import RandomForestClassifier\n",
    "    forest = RandomForestClassifier( n_estimators=10, random_state=0)\n",
    "    forest.fit(X_train,y_train)\n",
    "    print(\"Forest score {0}\".format(forest.score(X_train,y_train)) )\n",
    "    \n",
    "    from sklearn.linear_model import LogisticRegression\n",
    "    lreg =LogisticRegression()\n",
    "    lreg.fit(X_train,y_train)\n",
    "    print(\"Logistic Regression score {0}\".format(lreg.score(X_train,y_train)) )\n",
    "  \n",
    "    from sklearn.tree import DecisionTreeClassifier\n",
    "    tree =DecisionTreeClassifier()\n",
    "    tree.fit(X_train,y_train)\n",
    "    print(\"Decisions Tree score {0}\".format(tree.score(X_train,y_train)) )\n",
    "  \n",
    "   \n",
    "    return forest, lreg, tree\n",
    "\n",
    "forest, lreg, tree = model(X_train,y_train)"
   ]
  },
  {
   "cell_type": "code",
   "execution_count": 7,
   "id": "fourth-defensive",
   "metadata": {},
   "outputs": [
    {
     "name": "stdout",
     "output_type": "stream",
     "text": [
      "Random Forest 0.8324022346368715\n",
      "Logistic Regresion 0.7988826815642458\n",
      "Decision Tree 0.7821229050279329\n"
     ]
    }
   ],
   "source": [
    "# Run test data through model and get accuracy score\n",
    "from sklearn.metrics import accuracy_score\n",
    "\n",
    "target_names=[\"Died\",\"Survived\"]\n",
    "\n",
    "y_predict = forest.predict(X_test)\n",
    "print(\"Random Forest {0}\".format(accuracy_score(y_test, y_predict)))\n",
    "\n",
    "y_predict = lreg.predict(X_test)\n",
    "print(\"Logistic Regresion {0}\".format(accuracy_score(y_test, y_predict)))\n",
    "\n",
    "y_predict = tree.predict(X_test)\n",
    "print(\"Decision Tree {0}\".format(accuracy_score(y_test, y_predict)))"
   ]
  },
  {
   "cell_type": "code",
   "execution_count": 8,
   "id": "partial-teach",
   "metadata": {},
   "outputs": [
    {
     "data": {
      "text/plain": [
       "array([1])"
      ]
     },
     "execution_count": 8,
     "metadata": {},
     "output_type": "execute_result"
    }
   ],
   "source": [
    "# Run a prediction on a set of values\n",
    "my_data =[\n",
    "            [\n",
    "             1,  #\"Pclass\"\n",
    "             0,  #\"Sex\", Sex 0 = Female, 1 = Male\n",
    "             20,  #\"Age\", Age\n",
    "             0,  #\"SibSp\", Siblings and Spouses\n",
    "             0,  #\"Parch\", Parents and Children\n",
    "             0,  #\"Fare\", \n",
    "             2,  #\"Embarked\" 2 = Southampton\n",
    "    ]\n",
    "]\n",
    "\n",
    "forest.predict(my_data)"
   ]
  },
  {
   "cell_type": "code",
   "execution_count": 9,
   "id": "liquid-project",
   "metadata": {},
   "outputs": [],
   "source": [
    "# Export model\n",
    "import pickle\n",
    "filename = \"../data/model.sv\"\n",
    "pickle.dump(forest, open(filename,'wb'))"
   ]
  }
 ],
 "metadata": {
  "kernelspec": {
   "display_name": "Python 3",
   "language": "python",
   "name": "python3"
  },
  "language_info": {
   "codemirror_mode": {
    "name": "ipython",
    "version": 3
   },
   "file_extension": ".py",
   "mimetype": "text/x-python",
   "name": "python",
   "nbconvert_exporter": "python",
   "pygments_lexer": "ipython3",
   "version": "3.7.3"
  }
 },
 "nbformat": 4,
 "nbformat_minor": 5
}
